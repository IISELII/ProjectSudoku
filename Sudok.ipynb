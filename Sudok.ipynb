{
 "cells": [
  {
   "cell_type": "code",
   "execution_count": 3,
   "id": "60232e0c",
   "metadata": {},
   "outputs": [],
   "source": [
    "grid =[\n",
    "        [7, 8, 0, 4, 0, 0, 1, 2, 0],\n",
    "        [6, 0, 0, 0, 7, 5, 0, 0, 9],\n",
    "        [0, 0, 0, 6, 0, 1, 0, 7, 8],\n",
    "        [0, 0, 7, 0, 4, 0, 2, 6, 0],\n",
    "        [0, 0, 1, 0, 5, 0, 9, 3, 0],\n",
    "        [9, 0, 4, 0, 6, 0, 0, 0, 5],\n",
    "        [0, 7, 0, 3, 0, 0, 0, 1, 2],\n",
    "        [1, 2, 0, 0, 0, 7, 4, 0, 0],\n",
    "        [0, 4, 9, 2, 0, 6, 0, 0, 7]\n",
    "    ]"
   ]
  },
  {
   "cell_type": "code",
   "execution_count": 4,
   "id": "7ea210d7",
   "metadata": {},
   "outputs": [
    {
     "data": {
      "text/plain": [
       "6"
      ]
     },
     "execution_count": 4,
     "metadata": {},
     "output_type": "execute_result"
    }
   ],
   "source": [
    "grid[2][3]"
   ]
  },
  {
   "cell_type": "code",
   "execution_count": 9,
   "id": "a511c0d9",
   "metadata": {},
   "outputs": [],
   "source": [
    "def print_sudoku2(board):\n",
    "    print(\"+\" + \"---+\"*9)\n",
    "    for i, row in enumerate(board):\n",
    "        print((\"|\" + \" {}   {}   {} |\"*3).format(*[x if x != 0 else \" \" for x in row]))\n",
    "        if i % 3 == 2:\n",
    "            print(\"+\" + \"---+\"*9)\n",
    "        else:\n",
    "            print(\"+\" + \"   +\"*9)"
   ]
  },
  {
   "cell_type": "code",
   "execution_count": 10,
   "id": "9f3bc217",
   "metadata": {
    "scrolled": false
   },
   "outputs": [
    {
     "name": "stdout",
     "output_type": "stream",
     "text": [
      "+---+---+---+---+---+---+---+---+---+\n",
      "| 7   8     | 4         | 1   2     |\n",
      "+   +   +   +   +   +   +   +   +   +\n",
      "| 6         |     7   5 |         9 |\n",
      "+   +   +   +   +   +   +   +   +   +\n",
      "|           | 6       1 |     7   8 |\n",
      "+---+---+---+---+---+---+---+---+---+\n",
      "|         7 |     4     | 2   6     |\n",
      "+   +   +   +   +   +   +   +   +   +\n",
      "|         1 |     5     | 9   3     |\n",
      "+   +   +   +   +   +   +   +   +   +\n",
      "| 9       4 |     6     |         5 |\n",
      "+---+---+---+---+---+---+---+---+---+\n",
      "|     7     | 3         |     1   2 |\n",
      "+   +   +   +   +   +   +   +   +   +\n",
      "| 1   2     |         7 | 4         |\n",
      "+   +   +   +   +   +   +   +   +   +\n",
      "|     4   9 | 2       6 |         7 |\n",
      "+---+---+---+---+---+---+---+---+---+\n"
     ]
    }
   ],
   "source": [
    "print_sudoku2(grid)"
   ]
  },
  {
   "cell_type": "code",
   "execution_count": 27,
   "id": "1cddd800",
   "metadata": {
    "scrolled": true
   },
   "outputs": [
    {
     "data": {
      "text/plain": [
       "8"
      ]
     },
     "execution_count": 27,
     "metadata": {},
     "output_type": "execute_result"
    }
   ],
   "source": [
    "grid[0][1]"
   ]
  },
  {
   "cell_type": "code",
   "execution_count": 53,
   "id": "15de5c47",
   "metadata": {},
   "outputs": [],
   "source": [
    "def bloc(x,y) :\n",
    "    X=x//3\n",
    "    Y=y//3\n",
    "    return X,Y"
   ]
  },
  {
   "cell_type": "code",
   "execution_count": 54,
   "id": "500a8f24",
   "metadata": {},
   "outputs": [],
   "source": [
    "def is_possible_bloc(grid,number,x,y) :\n",
    "    X,Y=bloc(x,y)\n",
    "    for i in range(0,3) :\n",
    "        for j in range(0,3) :\n",
    "            if grid[X*3+i][Y*3+j]==number : \n",
    "                return False\n",
    "    return True"
   ]
  },
  {
   "cell_type": "code",
   "execution_count": 59,
   "id": "8d40d590",
   "metadata": {},
   "outputs": [
    {
     "data": {
      "text/plain": [
       "True"
      ]
     },
     "execution_count": 59,
     "metadata": {},
     "output_type": "execute_result"
    }
   ],
   "source": [
    "is_possible_bloc(grid,4,8,4)"
   ]
  },
  {
   "cell_type": "code",
   "execution_count": 51,
   "id": "e446ec01",
   "metadata": {},
   "outputs": [
    {
     "name": "stdout",
     "output_type": "stream",
     "text": [
      "6 6\n",
      "6 7\n",
      "6 8\n",
      "7 6\n",
      "7 7\n",
      "7 8\n",
      "8 6\n",
      "8 7\n",
      "8 8\n"
     ]
    }
   ],
   "source": [
    "for i in range(0,3):\n",
    "    for j in range(0,3) :\n",
    "        y= j +6//3 *3\n",
    "        x= i+ 6//3 * 3\n",
    "        print(x,y)"
   ]
  },
  {
   "cell_type": "code",
   "execution_count": 35,
   "id": "5011d215",
   "metadata": {},
   "outputs": [],
   "source": [
    "def is_possible_row(grid,number,x):\n",
    "    for i in range (0,9) :\n",
    "        if grid[x][i]==number : return False\n",
    "    return True"
   ]
  },
  {
   "cell_type": "code",
   "execution_count": 43,
   "id": "5d959a51",
   "metadata": {},
   "outputs": [
    {
     "name": "stdout",
     "output_type": "stream",
     "text": [
      "False\n"
     ]
    }
   ],
   "source": [
    "print(is_possible_row(grid,number=8,x=0))"
   ]
  },
  {
   "cell_type": "code",
   "execution_count": 44,
   "id": "ece9cdb8",
   "metadata": {},
   "outputs": [],
   "source": [
    "def is_possible_column(grid,number,y):\n",
    "    for i in range (0,9) :\n",
    "        if grid[i][y]==number : return False\n",
    "    return True"
   ]
  },
  {
   "cell_type": "code",
   "execution_count": 45,
   "id": "60c248db",
   "metadata": {},
   "outputs": [
    {
     "name": "stdout",
     "output_type": "stream",
     "text": [
      "True\n"
     ]
    }
   ],
   "source": [
    "print(is_possible_column(grid,number=8,y=2))"
   ]
  },
  {
   "cell_type": "code",
   "execution_count": null,
   "id": "e4e81c48",
   "metadata": {},
   "outputs": [],
   "source": []
  }
 ],
 "metadata": {
  "kernelspec": {
   "display_name": "Python 3 (ipykernel)",
   "language": "python",
   "name": "python3"
  },
  "language_info": {
   "codemirror_mode": {
    "name": "ipython",
    "version": 3
   },
   "file_extension": ".py",
   "mimetype": "text/x-python",
   "name": "python",
   "nbconvert_exporter": "python",
   "pygments_lexer": "ipython3",
   "version": "3.8.12"
  },
  "toc": {
   "base_numbering": 1,
   "nav_menu": {},
   "number_sections": true,
   "sideBar": true,
   "skip_h1_title": false,
   "title_cell": "Table of Contents",
   "title_sidebar": "Contents",
   "toc_cell": false,
   "toc_position": {},
   "toc_section_display": true,
   "toc_window_display": false
  }
 },
 "nbformat": 4,
 "nbformat_minor": 5
}
