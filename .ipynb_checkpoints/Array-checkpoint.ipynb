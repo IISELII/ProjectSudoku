{
 "cells": [
  {
   "cell_type": "code",
   "execution_count": 25,
   "id": "d8ba4df7",
   "metadata": {},
   "outputs": [],
   "source": [
    "import numpy as np"
   ]
  },
  {
   "cell_type": "code",
   "execution_count": 26,
   "id": "9ed43b40",
   "metadata": {},
   "outputs": [],
   "source": [
    "sudoku_1 = [[4, 7, 9, 3, 6, 8, 2, 1, 5],\n",
    "            [6, 3, 2, 1, 9, 5, 4, 8, 7],\n",
    "            [1, 8, 5, 2, 7, 4, 6, 3, 9],\n",
    "            [3, 6, 1, 7, 5, 9, 8, 4, 2],\n",
    "            [2, 5, 7, 4, 8, 3, 1, 9, 6],\n",
    "            [9, 4, 8, 6, 1, 2, 5, 7, 3],\n",
    "            [8, 9, 4, 5, 3, 6, 7, 2, 1],\n",
    "            [5, 1, 3, 8, 2, 7, 9, 6, 4],\n",
    "            [7, 2, 6, 9, 4, 1, 3, 5, 8]]"
   ]
  },
  {
   "cell_type": "code",
   "execution_count": 27,
   "id": "1a79212f",
   "metadata": {},
   "outputs": [],
   "source": [
    "def to_array(grille):\n",
    "    grille_array = np.array(grille)\n",
    "    return grille_array"
   ]
  },
  {
   "cell_type": "code",
   "execution_count": 28,
   "id": "69e379e7",
   "metadata": {},
   "outputs": [],
   "source": [
    "my_array = to_array(sudoku_1)"
   ]
  },
  {
   "cell_type": "code",
   "execution_count": 29,
   "id": "d47dc434",
   "metadata": {},
   "outputs": [],
   "source": [
    "def row_check1(grille):\n",
    "    for i in range(0, 9):\n",
    "        for w in range(1, 10):\n",
    "            if len(set(grille[i, :])) == 9:\n",
    "                True\n",
    "            else:\n",
    "                return False\n",
    "\n",
    "    return True"
   ]
  },
  {
   "cell_type": "code",
   "execution_count": 30,
   "id": "4459d077",
   "metadata": {},
   "outputs": [
    {
     "name": "stdout",
     "output_type": "stream",
     "text": [
      "CPU times: user 386 µs, sys: 68 µs, total: 454 µs\n",
      "Wall time: 459 µs\n"
     ]
    },
    {
     "data": {
      "text/plain": [
       "True"
      ]
     },
     "execution_count": 30,
     "metadata": {},
     "output_type": "execute_result"
    }
   ],
   "source": [
    "%%time\n",
    "row_check1(my_array)"
   ]
  },
  {
   "cell_type": "code",
   "execution_count": 46,
   "id": "f5e1c4b4",
   "metadata": {},
   "outputs": [],
   "source": [
    "def col_check(grille):\n",
    "    for j in range(0, 9):\n",
    "        for w in range(1, 10):\n",
    "            if len(set(grille[:, j])) == 9:\n",
    "                True\n",
    "            else:\n",
    "                return False\n",
    "    \n",
    "    return True"
   ]
  },
  {
   "cell_type": "code",
   "execution_count": 39,
   "id": "b2cd6997",
   "metadata": {},
   "outputs": [
    {
     "name": "stdout",
     "output_type": "stream",
     "text": [
      "133 µs ± 1.22 µs per loop (mean ± std. dev. of 7 runs, 10,000 loops each)\n"
     ]
    }
   ],
   "source": [
    "%%timeit\n",
    "cel_check(my_array)"
   ]
  },
  {
   "cell_type": "code",
   "execution_count": 36,
   "id": "30b96d3b",
   "metadata": {},
   "outputs": [],
   "source": [
    "def block_check(grille):\n",
    "    for i in range(0, 9, 3):\n",
    "        for j in range(0, 9, 3):\n",
    "            row = i\n",
    "            col = j\n",
    "\n",
    "            bloc = grille[row][col: col + 3]\n",
    "            bloc = np.append(bloc, grille[row + 1][col: col + 3])\n",
    "            bloc = np.append(bloc, grille[row + 2][col: col + 3])\n",
    "            \n",
    "            for w in range(1, 10):\n",
    "                if len(set(bloc)) == 9:\n",
    "                    True\n",
    "                else:\n",
    "                    return False\n",
    "        \n",
    "    return True"
   ]
  },
  {
   "cell_type": "code",
   "execution_count": 37,
   "id": "106f2c05",
   "metadata": {},
   "outputs": [
    {
     "name": "stdout",
     "output_type": "stream",
     "text": [
      "199 µs ± 8.69 µs per loop (mean ± std. dev. of 7 runs, 1,000 loops each)\n"
     ]
    }
   ],
   "source": [
    "%%timeit\n",
    "block_check(my_array)"
   ]
  },
  {
   "cell_type": "code",
   "execution_count": 48,
   "id": "cad74503",
   "metadata": {},
   "outputs": [],
   "source": [
    "def sudoku_check(grille):\n",
    "    \n",
    "    if row_check1(grille):\n",
    "        True\n",
    "    \n",
    "    if col_check(grille):\n",
    "        True\n",
    "    \n",
    "    if block_check(grille):\n",
    "        True\n",
    "    \n",
    "    return True"
   ]
  },
  {
   "cell_type": "code",
   "execution_count": 49,
   "id": "d9a09148",
   "metadata": {},
   "outputs": [
    {
     "name": "stdout",
     "output_type": "stream",
     "text": [
      "468 µs ± 9.11 µs per loop (mean ± std. dev. of 7 runs, 1,000 loops each)\n"
     ]
    }
   ],
   "source": [
    "%%timeit\n",
    "sudoku_check(my_array)"
   ]
  }
 ],
 "metadata": {
  "kernelspec": {
   "display_name": "Python 3 (ipykernel)",
   "language": "python",
   "name": "python3"
  },
  "language_info": {
   "codemirror_mode": {
    "name": "ipython",
    "version": 3
   },
   "file_extension": ".py",
   "mimetype": "text/x-python",
   "name": "python",
   "nbconvert_exporter": "python",
   "pygments_lexer": "ipython3",
   "version": "3.8.12"
  },
  "toc": {
   "base_numbering": 1,
   "nav_menu": {},
   "number_sections": true,
   "sideBar": true,
   "skip_h1_title": false,
   "title_cell": "Table of Contents",
   "title_sidebar": "Contents",
   "toc_cell": false,
   "toc_position": {},
   "toc_section_display": true,
   "toc_window_display": false
  },
  "vscode": {
   "interpreter": {
    "hash": "710c5bb8e250f32af4230b043ac5d82a675b596d8d9f74ad05a7701cb92be2e1"
   }
  }
 },
 "nbformat": 4,
 "nbformat_minor": 5
}
